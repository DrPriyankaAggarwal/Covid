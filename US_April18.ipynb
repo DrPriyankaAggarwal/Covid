{
 "cells": [
  {
   "cell_type": "markdown",
   "metadata": {},
   "source": [
    "# Objective: \n",
    "\n",
    "The objective of this notebook is to perform predictions and time series forecasting of COVID-19 spread in US and to predict the next day outcome."
   ]
  },
  {
   "cell_type": "markdown",
   "metadata": {},
   "source": [
    "# Data\n",
    "\n",
    "The data is being taken from the Coronavirus data repository operated by the Johns Hopkins University Center for Systems Science and Engineering (JHU CSSE).The data is updated every 24 hours. The link for the confirmed global cases: \"https://raw.githubusercontent.com/CSSEGISandData/COVID-19/master/csse_covid_19_data/csse_covid_19_time_series/time_series_covid19_confirmed_global.csv\""
   ]
  },
  {
   "cell_type": "code",
   "execution_count": 1,
   "metadata": {},
   "outputs": [],
   "source": [
    "from __future__ import absolute_import, division, print_function\n",
    "\n",
    "import numpy as np\n",
    "import matplotlib.pyplot as plt\n",
    "from pathlib import Path\n",
    "import pandas as pd\n",
    "import os\n",
    "import io\n",
    "import pandas as pd\n",
    "import requests\n",
    "from pylab import rcParams\n"
   ]
  },
  {
   "cell_type": "markdown",
   "metadata": {},
   "source": [
    "### Fetching the data "
   ]
  },
  {
   "cell_type": "code",
   "execution_count": 2,
   "metadata": {},
   "outputs": [
    {
     "data": {
      "text/html": [
       "<div>\n",
       "<style scoped>\n",
       "    .dataframe tbody tr th:only-of-type {\n",
       "        vertical-align: middle;\n",
       "    }\n",
       "\n",
       "    .dataframe tbody tr th {\n",
       "        vertical-align: top;\n",
       "    }\n",
       "\n",
       "    .dataframe thead th {\n",
       "        text-align: right;\n",
       "    }\n",
       "</style>\n",
       "<table border=\"1\" class=\"dataframe\">\n",
       "  <thead>\n",
       "    <tr style=\"text-align: right;\">\n",
       "      <th></th>\n",
       "      <th>Province/State</th>\n",
       "      <th>Country/Region</th>\n",
       "      <th>Lat</th>\n",
       "      <th>Long</th>\n",
       "      <th>1/22/20</th>\n",
       "      <th>1/23/20</th>\n",
       "      <th>1/24/20</th>\n",
       "      <th>1/25/20</th>\n",
       "      <th>1/26/20</th>\n",
       "      <th>1/27/20</th>\n",
       "      <th>...</th>\n",
       "      <th>4/8/20</th>\n",
       "      <th>4/9/20</th>\n",
       "      <th>4/10/20</th>\n",
       "      <th>4/11/20</th>\n",
       "      <th>4/12/20</th>\n",
       "      <th>4/13/20</th>\n",
       "      <th>4/14/20</th>\n",
       "      <th>4/15/20</th>\n",
       "      <th>4/16/20</th>\n",
       "      <th>4/17/20</th>\n",
       "    </tr>\n",
       "  </thead>\n",
       "  <tbody>\n",
       "    <tr>\n",
       "      <th>0</th>\n",
       "      <td>NaN</td>\n",
       "      <td>Afghanistan</td>\n",
       "      <td>33.0000</td>\n",
       "      <td>65.0000</td>\n",
       "      <td>0</td>\n",
       "      <td>0</td>\n",
       "      <td>0</td>\n",
       "      <td>0</td>\n",
       "      <td>0</td>\n",
       "      <td>0</td>\n",
       "      <td>...</td>\n",
       "      <td>444</td>\n",
       "      <td>484</td>\n",
       "      <td>521</td>\n",
       "      <td>555</td>\n",
       "      <td>607</td>\n",
       "      <td>665</td>\n",
       "      <td>714</td>\n",
       "      <td>784</td>\n",
       "      <td>840</td>\n",
       "      <td>906</td>\n",
       "    </tr>\n",
       "    <tr>\n",
       "      <th>1</th>\n",
       "      <td>NaN</td>\n",
       "      <td>Albania</td>\n",
       "      <td>41.1533</td>\n",
       "      <td>20.1683</td>\n",
       "      <td>0</td>\n",
       "      <td>0</td>\n",
       "      <td>0</td>\n",
       "      <td>0</td>\n",
       "      <td>0</td>\n",
       "      <td>0</td>\n",
       "      <td>...</td>\n",
       "      <td>400</td>\n",
       "      <td>409</td>\n",
       "      <td>416</td>\n",
       "      <td>433</td>\n",
       "      <td>446</td>\n",
       "      <td>467</td>\n",
       "      <td>475</td>\n",
       "      <td>494</td>\n",
       "      <td>518</td>\n",
       "      <td>539</td>\n",
       "    </tr>\n",
       "    <tr>\n",
       "      <th>2</th>\n",
       "      <td>NaN</td>\n",
       "      <td>Algeria</td>\n",
       "      <td>28.0339</td>\n",
       "      <td>1.6596</td>\n",
       "      <td>0</td>\n",
       "      <td>0</td>\n",
       "      <td>0</td>\n",
       "      <td>0</td>\n",
       "      <td>0</td>\n",
       "      <td>0</td>\n",
       "      <td>...</td>\n",
       "      <td>1572</td>\n",
       "      <td>1666</td>\n",
       "      <td>1761</td>\n",
       "      <td>1825</td>\n",
       "      <td>1914</td>\n",
       "      <td>1983</td>\n",
       "      <td>2070</td>\n",
       "      <td>2160</td>\n",
       "      <td>2268</td>\n",
       "      <td>2418</td>\n",
       "    </tr>\n",
       "    <tr>\n",
       "      <th>3</th>\n",
       "      <td>NaN</td>\n",
       "      <td>Andorra</td>\n",
       "      <td>42.5063</td>\n",
       "      <td>1.5218</td>\n",
       "      <td>0</td>\n",
       "      <td>0</td>\n",
       "      <td>0</td>\n",
       "      <td>0</td>\n",
       "      <td>0</td>\n",
       "      <td>0</td>\n",
       "      <td>...</td>\n",
       "      <td>564</td>\n",
       "      <td>583</td>\n",
       "      <td>601</td>\n",
       "      <td>601</td>\n",
       "      <td>638</td>\n",
       "      <td>646</td>\n",
       "      <td>659</td>\n",
       "      <td>673</td>\n",
       "      <td>673</td>\n",
       "      <td>696</td>\n",
       "    </tr>\n",
       "    <tr>\n",
       "      <th>4</th>\n",
       "      <td>NaN</td>\n",
       "      <td>Angola</td>\n",
       "      <td>-11.2027</td>\n",
       "      <td>17.8739</td>\n",
       "      <td>0</td>\n",
       "      <td>0</td>\n",
       "      <td>0</td>\n",
       "      <td>0</td>\n",
       "      <td>0</td>\n",
       "      <td>0</td>\n",
       "      <td>...</td>\n",
       "      <td>19</td>\n",
       "      <td>19</td>\n",
       "      <td>19</td>\n",
       "      <td>19</td>\n",
       "      <td>19</td>\n",
       "      <td>19</td>\n",
       "      <td>19</td>\n",
       "      <td>19</td>\n",
       "      <td>19</td>\n",
       "      <td>19</td>\n",
       "    </tr>\n",
       "  </tbody>\n",
       "</table>\n",
       "<p>5 rows × 91 columns</p>\n",
       "</div>"
      ],
      "text/plain": [
       "  Province/State Country/Region      Lat     Long  1/22/20  1/23/20  1/24/20  \\\n",
       "0            NaN    Afghanistan  33.0000  65.0000        0        0        0   \n",
       "1            NaN        Albania  41.1533  20.1683        0        0        0   \n",
       "2            NaN        Algeria  28.0339   1.6596        0        0        0   \n",
       "3            NaN        Andorra  42.5063   1.5218        0        0        0   \n",
       "4            NaN         Angola -11.2027  17.8739        0        0        0   \n",
       "\n",
       "   1/25/20  1/26/20  1/27/20  ...  4/8/20  4/9/20  4/10/20  4/11/20  4/12/20  \\\n",
       "0        0        0        0  ...     444     484      521      555      607   \n",
       "1        0        0        0  ...     400     409      416      433      446   \n",
       "2        0        0        0  ...    1572    1666     1761     1825     1914   \n",
       "3        0        0        0  ...     564     583      601      601      638   \n",
       "4        0        0        0  ...      19      19       19       19       19   \n",
       "\n",
       "   4/13/20  4/14/20  4/15/20  4/16/20  4/17/20  \n",
       "0      665      714      784      840      906  \n",
       "1      467      475      494      518      539  \n",
       "2     1983     2070     2160     2268     2418  \n",
       "3      646      659      673      673      696  \n",
       "4       19       19       19       19       19  \n",
       "\n",
       "[5 rows x 91 columns]"
      ]
     },
     "execution_count": 2,
     "metadata": {},
     "output_type": "execute_result"
    }
   ],
   "source": [
    "#Fetching the data \n",
    "url=\"https://raw.githubusercontent.com/CSSEGISandData/COVID-19/master/csse_covid_19_data/csse_covid_19_time_series/time_series_covid19_confirmed_global.csv\"\n",
    "s=requests.get(url).content\n",
    "data_con=pd.read_csv(io.StringIO(s.decode('utf-8')))\n",
    "data_con.head()"
   ]
  },
  {
   "cell_type": "markdown",
   "metadata": {},
   "source": [
    "### Separating out the confirmed cases for each country and summing them up."
   ]
  },
  {
   "cell_type": "code",
   "execution_count": 3,
   "metadata": {},
   "outputs": [],
   "source": [
    "names=data_con['Country/Region'].unique()    \n",
    "data1=pd.DataFrame([])\n",
    "i=0\n",
    "for x in names:\n",
    "      data=data_con.where(data_con['Country/Region']==x).sum()\n",
    "      data.loc['Province/State']=x\n",
    "      data1.loc[0:len(data),i]=data\n",
    "      i=i+1\n",
    "df=data1.iloc[3:]\n",
    "df.columns=data1.iloc[0].T\n",
    "del df['Nepal']\n",
    "df=df.astype(float)\n",
    "lendf=len(df)"
   ]
  },
  {
   "cell_type": "code",
   "execution_count": 4,
   "metadata": {},
   "outputs": [
    {
     "data": {
      "text/html": [
       "<div>\n",
       "<style scoped>\n",
       "    .dataframe tbody tr th:only-of-type {\n",
       "        vertical-align: middle;\n",
       "    }\n",
       "\n",
       "    .dataframe tbody tr th {\n",
       "        vertical-align: top;\n",
       "    }\n",
       "\n",
       "    .dataframe thead th {\n",
       "        text-align: right;\n",
       "    }\n",
       "</style>\n",
       "<table border=\"1\" class=\"dataframe\">\n",
       "  <thead>\n",
       "    <tr style=\"text-align: right;\">\n",
       "      <th>Province/State</th>\n",
       "      <th>Afghanistan</th>\n",
       "      <th>Albania</th>\n",
       "      <th>Algeria</th>\n",
       "      <th>Andorra</th>\n",
       "      <th>Angola</th>\n",
       "      <th>Antigua and Barbuda</th>\n",
       "      <th>Argentina</th>\n",
       "      <th>Armenia</th>\n",
       "      <th>Australia</th>\n",
       "      <th>Austria</th>\n",
       "      <th>...</th>\n",
       "      <th>Burma</th>\n",
       "      <th>MS Zaandam</th>\n",
       "      <th>Botswana</th>\n",
       "      <th>Burundi</th>\n",
       "      <th>Sierra Leone</th>\n",
       "      <th>Malawi</th>\n",
       "      <th>South Sudan</th>\n",
       "      <th>Western Sahara</th>\n",
       "      <th>Sao Tome and Principe</th>\n",
       "      <th>Yemen</th>\n",
       "    </tr>\n",
       "  </thead>\n",
       "  <tbody>\n",
       "    <tr>\n",
       "      <th>4/13/20</th>\n",
       "      <td>665.0</td>\n",
       "      <td>467.0</td>\n",
       "      <td>1983.0</td>\n",
       "      <td>646.0</td>\n",
       "      <td>19.0</td>\n",
       "      <td>23.0</td>\n",
       "      <td>2208.0</td>\n",
       "      <td>1039.0</td>\n",
       "      <td>6351.0</td>\n",
       "      <td>14041.0</td>\n",
       "      <td>...</td>\n",
       "      <td>62.0</td>\n",
       "      <td>9.0</td>\n",
       "      <td>13.0</td>\n",
       "      <td>5.0</td>\n",
       "      <td>10.0</td>\n",
       "      <td>16.0</td>\n",
       "      <td>4.0</td>\n",
       "      <td>6.0</td>\n",
       "      <td>4.0</td>\n",
       "      <td>1.0</td>\n",
       "    </tr>\n",
       "    <tr>\n",
       "      <th>4/14/20</th>\n",
       "      <td>714.0</td>\n",
       "      <td>475.0</td>\n",
       "      <td>2070.0</td>\n",
       "      <td>659.0</td>\n",
       "      <td>19.0</td>\n",
       "      <td>23.0</td>\n",
       "      <td>2277.0</td>\n",
       "      <td>1067.0</td>\n",
       "      <td>6415.0</td>\n",
       "      <td>14226.0</td>\n",
       "      <td>...</td>\n",
       "      <td>63.0</td>\n",
       "      <td>9.0</td>\n",
       "      <td>13.0</td>\n",
       "      <td>5.0</td>\n",
       "      <td>11.0</td>\n",
       "      <td>16.0</td>\n",
       "      <td>4.0</td>\n",
       "      <td>6.0</td>\n",
       "      <td>4.0</td>\n",
       "      <td>1.0</td>\n",
       "    </tr>\n",
       "    <tr>\n",
       "      <th>4/15/20</th>\n",
       "      <td>784.0</td>\n",
       "      <td>494.0</td>\n",
       "      <td>2160.0</td>\n",
       "      <td>673.0</td>\n",
       "      <td>19.0</td>\n",
       "      <td>23.0</td>\n",
       "      <td>2443.0</td>\n",
       "      <td>1111.0</td>\n",
       "      <td>6440.0</td>\n",
       "      <td>14336.0</td>\n",
       "      <td>...</td>\n",
       "      <td>74.0</td>\n",
       "      <td>9.0</td>\n",
       "      <td>13.0</td>\n",
       "      <td>5.0</td>\n",
       "      <td>13.0</td>\n",
       "      <td>16.0</td>\n",
       "      <td>4.0</td>\n",
       "      <td>6.0</td>\n",
       "      <td>4.0</td>\n",
       "      <td>1.0</td>\n",
       "    </tr>\n",
       "    <tr>\n",
       "      <th>4/16/20</th>\n",
       "      <td>840.0</td>\n",
       "      <td>518.0</td>\n",
       "      <td>2268.0</td>\n",
       "      <td>673.0</td>\n",
       "      <td>19.0</td>\n",
       "      <td>23.0</td>\n",
       "      <td>2571.0</td>\n",
       "      <td>1159.0</td>\n",
       "      <td>6462.0</td>\n",
       "      <td>14476.0</td>\n",
       "      <td>...</td>\n",
       "      <td>85.0</td>\n",
       "      <td>9.0</td>\n",
       "      <td>15.0</td>\n",
       "      <td>5.0</td>\n",
       "      <td>15.0</td>\n",
       "      <td>16.0</td>\n",
       "      <td>4.0</td>\n",
       "      <td>6.0</td>\n",
       "      <td>4.0</td>\n",
       "      <td>1.0</td>\n",
       "    </tr>\n",
       "    <tr>\n",
       "      <th>4/17/20</th>\n",
       "      <td>906.0</td>\n",
       "      <td>539.0</td>\n",
       "      <td>2418.0</td>\n",
       "      <td>696.0</td>\n",
       "      <td>19.0</td>\n",
       "      <td>23.0</td>\n",
       "      <td>2669.0</td>\n",
       "      <td>1201.0</td>\n",
       "      <td>6522.0</td>\n",
       "      <td>14595.0</td>\n",
       "      <td>...</td>\n",
       "      <td>88.0</td>\n",
       "      <td>9.0</td>\n",
       "      <td>15.0</td>\n",
       "      <td>5.0</td>\n",
       "      <td>26.0</td>\n",
       "      <td>17.0</td>\n",
       "      <td>4.0</td>\n",
       "      <td>6.0</td>\n",
       "      <td>4.0</td>\n",
       "      <td>1.0</td>\n",
       "    </tr>\n",
       "  </tbody>\n",
       "</table>\n",
       "<p>5 rows × 184 columns</p>\n",
       "</div>"
      ],
      "text/plain": [
       "Province/State  Afghanistan  Albania  Algeria  Andorra  Angola  \\\n",
       "4/13/20               665.0    467.0   1983.0    646.0    19.0   \n",
       "4/14/20               714.0    475.0   2070.0    659.0    19.0   \n",
       "4/15/20               784.0    494.0   2160.0    673.0    19.0   \n",
       "4/16/20               840.0    518.0   2268.0    673.0    19.0   \n",
       "4/17/20               906.0    539.0   2418.0    696.0    19.0   \n",
       "\n",
       "Province/State  Antigua and Barbuda  Argentina  Armenia  Australia  Austria  \\\n",
       "4/13/20                        23.0     2208.0   1039.0     6351.0  14041.0   \n",
       "4/14/20                        23.0     2277.0   1067.0     6415.0  14226.0   \n",
       "4/15/20                        23.0     2443.0   1111.0     6440.0  14336.0   \n",
       "4/16/20                        23.0     2571.0   1159.0     6462.0  14476.0   \n",
       "4/17/20                        23.0     2669.0   1201.0     6522.0  14595.0   \n",
       "\n",
       "Province/State  ...  Burma  MS Zaandam  Botswana  Burundi  Sierra Leone  \\\n",
       "4/13/20         ...   62.0         9.0      13.0      5.0          10.0   \n",
       "4/14/20         ...   63.0         9.0      13.0      5.0          11.0   \n",
       "4/15/20         ...   74.0         9.0      13.0      5.0          13.0   \n",
       "4/16/20         ...   85.0         9.0      15.0      5.0          15.0   \n",
       "4/17/20         ...   88.0         9.0      15.0      5.0          26.0   \n",
       "\n",
       "Province/State  Malawi  South Sudan  Western Sahara  Sao Tome and Principe  \\\n",
       "4/13/20           16.0          4.0             6.0                    4.0   \n",
       "4/14/20           16.0          4.0             6.0                    4.0   \n",
       "4/15/20           16.0          4.0             6.0                    4.0   \n",
       "4/16/20           16.0          4.0             6.0                    4.0   \n",
       "4/17/20           17.0          4.0             6.0                    4.0   \n",
       "\n",
       "Province/State  Yemen  \n",
       "4/13/20           1.0  \n",
       "4/14/20           1.0  \n",
       "4/15/20           1.0  \n",
       "4/16/20           1.0  \n",
       "4/17/20           1.0  \n",
       "\n",
       "[5 rows x 184 columns]"
      ]
     },
     "execution_count": 4,
     "metadata": {},
     "output_type": "execute_result"
    }
   ],
   "source": [
    "df.tail()"
   ]
  },
  {
   "cell_type": "markdown",
   "metadata": {},
   "source": [
    "### Removing countries with less than 50000 confirmed cases."
   ]
  },
  {
   "cell_type": "code",
   "execution_count": 5,
   "metadata": {},
   "outputs": [
    {
     "name": "stdout",
     "output_type": "stream",
     "text": [
      "[77 78 79 80 81 82 83 84 85 86]\n"
     ]
    }
   ],
   "source": [
    "# fix number of reading to remove and then predict 10\n",
    "last=np.arange(len(df.index)-10,len(df.index))\n",
    "print(last)\n",
    "list1=[]\n",
    "\n",
    "# Removing countries with less cases\n",
    "for col in df.columns:\n",
    "    if df.iloc[last[0]][col]<50000:\n",
    "        list1.append(col)\n",
    "\n",
    "df_cut=df.drop(df[list1], axis=1)\n"
   ]
  },
  {
   "cell_type": "markdown",
   "metadata": {},
   "source": [
    "### The graph shows that currently US has largest number of confirmed cases and has the sharpest growing curve among all the countries."
   ]
  },
  {
   "cell_type": "code",
   "execution_count": 6,
   "metadata": {},
   "outputs": [
    {
     "data": {
      "image/png": "[encoded data removed]",
      "text/plain": [
       "<Figure size 432x288 with 1 Axes>"
      ]
     },
     "metadata": {
      "needs_background": "light"
     },
     "output_type": "display_data"
    }
   ],
   "source": [
    "#%matplotlib qt\n",
    "df_cut.plot(y=df_cut.columns)\n",
    "\n",
    "plt.xlabel('Date',family=\"serif\",  fontsize=14)\n",
    "plt.ylabel('Confirmed cases',family=\"serif\",  fontsize=14)\n",
    "plt.rcParams[\"figure.figsize\"] = (40,40)\n",
    "plt.show()"
   ]
  },
  {
   "cell_type": "markdown",
   "metadata": {},
   "source": [
    "### Separating US data "
   ]
  },
  {
   "cell_type": "code",
   "execution_count": 7,
   "metadata": {},
   "outputs": [
    {
     "data": {
      "text/html": [
       "<div>\n",
       "<style scoped>\n",
       "    .dataframe tbody tr th:only-of-type {\n",
       "        vertical-align: middle;\n",
       "    }\n",
       "\n",
       "    .dataframe tbody tr th {\n",
       "        vertical-align: top;\n",
       "    }\n",
       "\n",
       "    .dataframe thead th {\n",
       "        text-align: right;\n",
       "    }\n",
       "</style>\n",
       "<table border=\"1\" class=\"dataframe\">\n",
       "  <thead>\n",
       "    <tr style=\"text-align: right;\">\n",
       "      <th></th>\n",
       "      <th>Days</th>\n",
       "      <th>US</th>\n",
       "    </tr>\n",
       "  </thead>\n",
       "  <tbody>\n",
       "    <tr>\n",
       "      <th>82</th>\n",
       "      <td>82</td>\n",
       "      <td>580619.0</td>\n",
       "    </tr>\n",
       "    <tr>\n",
       "      <th>83</th>\n",
       "      <td>83</td>\n",
       "      <td>607670.0</td>\n",
       "    </tr>\n",
       "    <tr>\n",
       "      <th>84</th>\n",
       "      <td>84</td>\n",
       "      <td>636350.0</td>\n",
       "    </tr>\n",
       "    <tr>\n",
       "      <th>85</th>\n",
       "      <td>85</td>\n",
       "      <td>667801.0</td>\n",
       "    </tr>\n",
       "    <tr>\n",
       "      <th>86</th>\n",
       "      <td>86</td>\n",
       "      <td>699706.0</td>\n",
       "    </tr>\n",
       "  </tbody>\n",
       "</table>\n",
       "</div>"
      ],
      "text/plain": [
       "    Days        US\n",
       "82    82  580619.0\n",
       "83    83  607670.0\n",
       "84    84  636350.0\n",
       "85    85  667801.0\n",
       "86    86  699706.0"
      ]
     },
     "execution_count": 7,
     "metadata": {},
     "output_type": "execute_result"
    }
   ],
   "source": [
    "%matplotlib inline\n",
    "df_US=pd.DataFrame()\n",
    "lenc=len(df_cut)\n",
    "c=np.array(np.arange(0,lenc)).T\n",
    "df_US[\"Days\"]=c\n",
    "df_US[\"US\"]=df_cut[\"US\"].values.astype('float')\n",
    "df_US.tail()"
   ]
  },
  {
   "cell_type": "markdown",
   "metadata": {},
   "source": [
    "### Plotting the graph for US"
   ]
  },
  {
   "cell_type": "code",
   "execution_count": 8,
   "metadata": {},
   "outputs": [
    {
     "data": {
      "image/png": "[encoded data removed]",
      "text/plain": [
       "<Figure size 576x360 with 1 Axes>"
      ]
     },
     "metadata": {
      "needs_background": "light"
     },
     "output_type": "display_data"
    },
    {
     "data": {
      "text/html": [
       "<div>\n",
       "<style scoped>\n",
       "    .dataframe tbody tr th:only-of-type {\n",
       "        vertical-align: middle;\n",
       "    }\n",
       "\n",
       "    .dataframe tbody tr th {\n",
       "        vertical-align: top;\n",
       "    }\n",
       "\n",
       "    .dataframe thead th {\n",
       "        text-align: right;\n",
       "    }\n",
       "</style>\n",
       "<table border=\"1\" class=\"dataframe\">\n",
       "  <thead>\n",
       "    <tr style=\"text-align: right;\">\n",
       "      <th></th>\n",
       "      <th>Days</th>\n",
       "      <th>US</th>\n",
       "    </tr>\n",
       "  </thead>\n",
       "  <tbody>\n",
       "    <tr>\n",
       "      <th>82</th>\n",
       "      <td>82</td>\n",
       "      <td>580619.0</td>\n",
       "    </tr>\n",
       "    <tr>\n",
       "      <th>83</th>\n",
       "      <td>83</td>\n",
       "      <td>607670.0</td>\n",
       "    </tr>\n",
       "    <tr>\n",
       "      <th>84</th>\n",
       "      <td>84</td>\n",
       "      <td>636350.0</td>\n",
       "    </tr>\n",
       "    <tr>\n",
       "      <th>85</th>\n",
       "      <td>85</td>\n",
       "      <td>667801.0</td>\n",
       "    </tr>\n",
       "    <tr>\n",
       "      <th>86</th>\n",
       "      <td>86</td>\n",
       "      <td>699706.0</td>\n",
       "    </tr>\n",
       "  </tbody>\n",
       "</table>\n",
       "</div>"
      ],
      "text/plain": [
       "    Days        US\n",
       "82    82  580619.0\n",
       "83    83  607670.0\n",
       "84    84  636350.0\n",
       "85    85  667801.0\n",
       "86    86  699706.0"
      ]
     },
     "execution_count": 8,
     "metadata": {},
     "output_type": "execute_result"
    }
   ],
   "source": [
    "fig = plt.figure(figsize=(8,5))\n",
    "plt.plot(df_US[\"Days\"],df_US[\"US\"],'b*-')\n",
    "plt.xlabel('Number of Days')\n",
    "plt.ylabel('Confirmed Cases')\n",
    "plt.title('US')\n",
    "plt.show()\n",
    "df_UScomp=df_US\n",
    "df_US.tail()"
   ]
  },
  {
   "cell_type": "markdown",
   "metadata": {},
   "source": [
    "### Storing the last value to be used as test data for the prediction algorithm"
   ]
  },
  {
   "cell_type": "code",
   "execution_count": 9,
   "metadata": {},
   "outputs": [],
   "source": [
    "y_true=df_US.iloc[0:lendf-10]['US']\n",
    "#print(y_true)"
   ]
  },
  {
   "cell_type": "code",
   "execution_count": 10,
   "metadata": {},
   "outputs": [
    {
     "name": "stdout",
     "output_type": "stream",
     "text": [
      "y_test 77    429052.0\n",
      "78    461437.0\n",
      "79    496535.0\n",
      "80    526396.0\n",
      "81    555313.0\n",
      "82    580619.0\n",
      "83    607670.0\n",
      "84    636350.0\n",
      "85    667801.0\n",
      "86    699706.0\n",
      "Name: US, dtype: float64\n"
     ]
    }
   ],
   "source": [
    "y_test=df_UScomp.iloc[lendf-10:lendf]['US']\n",
    "print('y_test',y_test)\n"
   ]
  },
  {
   "cell_type": "code",
   "execution_count": 11,
   "metadata": {},
   "outputs": [
    {
     "name": "stdout",
     "output_type": "stream",
     "text": [
      "[555313. 580619. 607670. 636350. 667801. 699706.]\n"
     ]
    }
   ],
   "source": [
    "# y_whole has all the actual values\n",
    "# df_UScomp has all the actual values\n",
    "y_whole=np.append(y_true,y_test)\n",
    "print(y_whole[-6:])\n"
   ]
  },
  {
   "cell_type": "code",
   "execution_count": 12,
   "metadata": {},
   "outputs": [
    {
     "data": {
      "text/html": [
       "<div>\n",
       "<style scoped>\n",
       "    .dataframe tbody tr th:only-of-type {\n",
       "        vertical-align: middle;\n",
       "    }\n",
       "\n",
       "    .dataframe tbody tr th {\n",
       "        vertical-align: top;\n",
       "    }\n",
       "\n",
       "    .dataframe thead th {\n",
       "        text-align: right;\n",
       "    }\n",
       "</style>\n",
       "<table border=\"1\" class=\"dataframe\">\n",
       "  <thead>\n",
       "    <tr style=\"text-align: right;\">\n",
       "      <th></th>\n",
       "      <th>Days</th>\n",
       "      <th>US</th>\n",
       "    </tr>\n",
       "  </thead>\n",
       "  <tbody>\n",
       "    <tr>\n",
       "      <th>72</th>\n",
       "      <td>72</td>\n",
       "      <td>275586.0</td>\n",
       "    </tr>\n",
       "    <tr>\n",
       "      <th>73</th>\n",
       "      <td>73</td>\n",
       "      <td>308853.0</td>\n",
       "    </tr>\n",
       "    <tr>\n",
       "      <th>74</th>\n",
       "      <td>74</td>\n",
       "      <td>337072.0</td>\n",
       "    </tr>\n",
       "    <tr>\n",
       "      <th>75</th>\n",
       "      <td>75</td>\n",
       "      <td>366667.0</td>\n",
       "    </tr>\n",
       "    <tr>\n",
       "      <th>76</th>\n",
       "      <td>76</td>\n",
       "      <td>396223.0</td>\n",
       "    </tr>\n",
       "  </tbody>\n",
       "</table>\n",
       "</div>"
      ],
      "text/plain": [
       "    Days        US\n",
       "72    72  275586.0\n",
       "73    73  308853.0\n",
       "74    74  337072.0\n",
       "75    75  366667.0\n",
       "76    76  396223.0"
      ]
     },
     "execution_count": 12,
     "metadata": {},
     "output_type": "execute_result"
    }
   ],
   "source": [
    "df_US=df_US.iloc[0:lendf-10 ]\n",
    "df_US.tail()"
   ]
  },
  {
   "cell_type": "markdown",
   "metadata": {},
   "source": [
    "### On analyzing the data, we are fitting exponential model to the data."
   ]
  },
  {
   "cell_type": "code",
   "execution_count": 13,
   "metadata": {},
   "outputs": [],
   "source": [
    "import scipy as scipy\n",
    "from scipy import optimize"
   ]
  },
  {
   "cell_type": "code",
   "execution_count": 23,
   "metadata": {},
   "outputs": [
    {
     "name": "stdout",
     "output_type": "stream",
     "text": [
      " Error Variances: [4.34671275e+00 1.89223407e-01 2.73993621e-03 1.31966851e-05]\n"
     ]
    }
   ],
   "source": [
    "X=df_US[\"Days\"]\n",
    "Y=df_US[\"US\"]\n",
    "# Define exponential function\n",
    "def exponential(x, c,b,a,d):\n",
    "    #equation=exp(a(1)*(xdata.^2)+a(2)*(xdata) + a(3))\n",
    "    return np.exp(c+b*x+a*x*x+d*x*x*x)\n",
    "\n",
    "popt_exponential, pcov_exponential = scipy.optimize.curve_fit(exponential,X,Y, p0=[15,1.2,0.009,0.0001])\n",
    "# we then can find the error of the fitting parameters from the pcov_linear array\n",
    "perr_exponential = np.sqrt(np.diag(pcov_exponential))\n",
    "print(\" Error Variances:\",perr_exponential)\n"
   ]
  },
  {
   "cell_type": "markdown",
   "metadata": {},
   "source": [
    "### Error Variance for the fitted function:"
   ]
  },
  {
   "cell_type": "code",
   "execution_count": 15,
   "metadata": {},
   "outputs": [
    {
     "data": {
      "text/plain": [
       "array([4.34671275e+00, 1.89223407e-01, 2.73993621e-03, 1.31966851e-05])"
      ]
     },
     "execution_count": 15,
     "metadata": {},
     "output_type": "execute_result"
    }
   ],
   "source": [
    "perr_exponential"
   ]
  },
  {
   "cell_type": "code",
   "execution_count": 16,
   "metadata": {
    "scrolled": false
   },
   "outputs": [
    {
     "data": {
      "image/png": "[encoded data removed]",
      "text/plain": [
       "<Figure size 576x360 with 1 Axes>"
      ]
     },
     "metadata": {
      "needs_background": "light"
     },
     "output_type": "display_data"
    }
   ],
   "source": [
    "fig = plt.figure(figsize=(8,5))\n",
    "plt.plot(X, y_true, \"ro\",label='Data')\n",
    "plt.plot(X, exponential(X, *popt_exponential), 'k--',\n",
    "         label='Fitted Curve')\n",
    "\n",
    "plt.xlabel('No of Days',family=\"serif\",  fontsize=14)\n",
    "plt.ylabel('Confirmed US cases',family=\"serif\",  fontsize=14)\n",
    "plt.legend(fontsize=14)\n",
    "plt.show()\n"
   ]
  },
  {
   "cell_type": "markdown",
   "metadata": {
    "scrolled": false
   },
   "source": [
    "### Above figure shows that the fitted exponential curve adequately models the data. The below curve shows the predicted value for the next day."
   ]
  },
  {
   "cell_type": "code",
   "execution_count": 17,
   "metadata": {},
   "outputs": [
    {
     "name": "stdout",
     "output_type": "stream",
     "text": [
      "No of Days starting at Jan 22/2020, Predicted value for current day, Actual value: 86 645332.5061216129 699706.0\n"
     ]
    },
    {
     "data": {
      "image/png": "[encoded data removed]",
      "text/plain": [
       "<Figure size 576x360 with 1 Axes>"
      ]
     },
     "metadata": {
      "needs_background": "light"
     },
     "output_type": "display_data"
    }
   ],
   "source": [
    "# Testing with one removed entry from above\n",
    "xa=len(X)\n",
    "xa=np.arange(xa,lenc)\n",
    "X_n=np.append(X,xa)#np.array([lenc]))\n",
    "Y_n=exponential(X_n, *popt_exponential)\n",
    "print('No of Days starting at Jan 22/2020,','Predicted value for current day,', 'Actual value:',X_n[-1],Y_n[-1],y_whole[-1])\n",
    "\n",
    "fig = plt.figure(figsize=(8,5))\n",
    "plt.plot(X_n, Y_n, 'y--*', label='Fitted Curve')\n",
    "plt.plot(X_n, y_whole, 'k--*',label='Actual Values')\n",
    "\n",
    "plt.xlabel('No of Days',family=\"serif\",  fontsize=14)\n",
    "plt.ylabel('Confirmed US cases',family=\"serif\",  fontsize=14)\n",
    "plt.legend(fontsize=14)\n",
    "\n",
    "fig.tight_layout()\n",
    "plt.show()\n",
    "fig.savefig(\"fittedExponential.png\", format=\"png\",dpi=1000)\n"
   ]
  },
  {
   "cell_type": "code",
   "execution_count": 18,
   "metadata": {},
   "outputs": [],
   "source": [
    "la=len(X_n)+10\n",
    "xa10=np.arange(len(X_n),la)#,X_n+10)\n",
    "X_n10=np.append(X_n,xa10)\n",
    "lenpred=len(X_n10)"
   ]
  },
  {
   "cell_type": "code",
   "execution_count": 19,
   "metadata": {},
   "outputs": [
    {
     "name": "stdout",
     "output_type": "stream",
     "text": [
      "[86 87 88 89 90 91 92 93 94 95 96] [645332.50612161 663244.64924895 680362.97752638 696938.76501969\n",
      " 713256.80769204 729633.74352235 746417.65389789 763989.21290278\n",
      " 782764.65690917 803200.87548557 825802.98176225]\n"
     ]
    },
    {
     "data": {
      "image/png": "[encoded data removed]",
      "text/plain": [
       "<Figure size 576x360 with 1 Axes>"
      ]
     },
     "metadata": {
      "needs_background": "light"
     },
     "output_type": "display_data"
    }
   ],
   "source": [
    "y_n10=exponential(X_n10, *popt_exponential)\n",
    "print(X_n10[lenpred-11:lenpred],y_n10[lenpred-11:lenpred])\n",
    "fig = plt.figure(figsize=(8,5))\n",
    "plt.plot(X, Y, \"go\",label='Model based on this Data')\n",
    "plt.plot(X_n, y_whole, 'm*-',label='Actual Values')\n",
    "\n",
    "plt.plot(X_n10, y_n10, 'k--*',label=' Future Predicted Values')\n",
    "plt.plot(X_n, Y_n, 'r--*', label='Fitted Curve')\n",
    "\n",
    "plt.xlabel('No of Days',family=\"serif\",  fontsize=14)\n",
    "plt.ylabel('Confirmed US cases',family=\"serif\",  fontsize=14)\n",
    "plt.legend(fontsize=14)\n",
    "\n",
    "fig.tight_layout()\n",
    "plt.show()\n",
    "fig.savefig(\"fittedExponential.png\", format=\"png\",dpi=1000)\n",
    "\n"
   ]
  },
  {
   "cell_type": "code",
   "execution_count": null,
   "metadata": {},
   "outputs": [],
   "source": []
  },
  {
   "cell_type": "code",
   "execution_count": null,
   "metadata": {},
   "outputs": [],
   "source": []
  },
  {
   "cell_type": "code",
   "execution_count": null,
   "metadata": {},
   "outputs": [],
   "source": []
  }
 ],
 "metadata": {
  "kernelspec": {
   "display_name": "Python 3",
   "language": "python",
   "name": "python3"
  },
  "language_info": {
   "codemirror_mode": {
    "name": "ipython",
    "version": 3
   },
   "file_extension": ".py",
   "mimetype": "text/x-python",
   "name": "python",
   "nbconvert_exporter": "python",
   "pygments_lexer": "ipython3",
   "version": "3.7.3"
  }
 },
 "nbformat": 4,
 "nbformat_minor": 2
}
